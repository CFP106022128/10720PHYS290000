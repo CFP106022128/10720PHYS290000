{
 "cells": [
  {
   "cell_type": "code",
   "execution_count": 5,
   "metadata": {
    "scrolled": true
   },
   "outputs": [
    {
     "data": {
      "image/png": "[encoded data removed]",
      "text/plain": [
       "<Figure size 432x288 with 1 Axes>"
      ]
     },
     "metadata": {
      "needs_background": "light"
     },
     "output_type": "display_data"
    }
   ],
   "source": [
    "import numpy as np\n",
    "fp=open('Alice.txt','r',encoding='UTF-8')\n",
    "line=fp.readline()\n",
    "count=dict()\n",
    "while line:\n",
    "   \n",
    "    line=fp.readline()\n",
    "    s=line.split()\n",
    "    for word in s:\n",
    "        if word in count:\n",
    "            count[word] += 1\n",
    "        else:\n",
    "            count[word] = 1\n",
    "\n",
    "import matplotlib.pyplot as plt\n",
    "num=[]\n",
    "for key in count:\n",
    "    num.append(count[key])\n",
    "\n",
    "num.sort()\n",
    "num.reverse()\n",
    "plt.loglog(range(len(num)),num)\n",
    "plt.show()"
   ]
  },
  {
   "cell_type": "code",
   "execution_count": 11,
   "metadata": {},
   "outputs": [
    {
     "name": "stdout",
     "output_type": "stream",
     "text": [
      "range(0, 6330)\n"
     ]
    }
   ],
   "source": [
    "print(range(len(num)))"
   ]
  },
  {
   "cell_type": "code",
   "execution_count": 38,
   "metadata": {},
   "outputs": [
    {
     "name": "stdout",
     "output_type": "stream",
     "text": [
      "(array([3.969e+03, 9.150e+02, 4.160e+02, 2.230e+02, 2.320e+02, 1.870e+02,\n",
      "       1.070e+02, 8.000e+01, 6.500e+01, 4.400e+01, 3.100e+01, 2.200e+01,\n",
      "       1.300e+01, 8.000e+00, 7.000e+00, 3.000e+00, 3.000e+00, 4.000e+00,\n",
      "       0.000e+00, 1.000e+00]), array([0.        , 0.37174239, 0.74348479, 1.11522718, 1.48696958,\n",
      "       1.85871197, 2.23045436, 2.60219676, 2.97393915, 3.34568154,\n",
      "       3.71742394, 4.08916633, 4.46090873, 4.83265112, 5.20439351,\n",
      "       5.57613591, 5.9478783 , 6.31962069, 6.69136309, 7.06310548,\n",
      "       7.43484788]), <a list of 20 Patch objects>)\n"
     ]
    },
    {
     "data": {
      "text/plain": [
       "[<matplotlib.lines.Line2D at 0x11497afd0>]"
      ]
     },
     "execution_count": 38,
     "metadata": {},
     "output_type": "execute_result"
    },
    {
     "data": {
      "image/png": "[encoded data removed]",
      "text/plain": [
       "<Figure size 432x288 with 1 Axes>"
      ]
     },
     "metadata": {
      "needs_background": "light"
     },
     "output_type": "display_data"
    }
   ],
   "source": [
    "h=plt.hist(np.log(num),20)\n",
    "print(h)\n",
    "dx=(h[1][1]-h[1][0])\n",
    "bin_center=np.array(h[1][0:-1])+dx/2\n",
    "\n",
    "from scipy import optimize\n",
    "def test_func(x,alpha,amp):\n",
    "    return amp*x**alpha\n",
    "params,params_covariance=optimize.curve_fit(test_func,bin_center,h[0])\n",
    "\n",
    "y= [test_func(i, params[0],params[1]) for i in bin_center]\n",
    "\n",
    "plt.plot(bin_center,y,'r--')"
   ]
  },
  {
   "cell_type": "code",
   "execution_count": 39,
   "metadata": {},
   "outputs": [
    {
     "name": "stdout",
     "output_type": "stream",
     "text": [
      "[ -1.38693449 385.30916547] [[4.42652618e-04 2.71659764e-01]\n",
      " [2.71659764e-01 1.75280207e+02]]\n"
     ]
    }
   ],
   "source": [
    "print(params,params_covariance)"
   ]
  },
  {
   "cell_type": "code",
   "execution_count": null,
   "metadata": {},
   "outputs": [],
   "source": []
  },
  {
   "cell_type": "code",
   "execution_count": null,
   "metadata": {},
   "outputs": [],
   "source": []
  }
 ],
 "metadata": {
  "kernelspec": {
   "display_name": "Python 3",
   "language": "python",
   "name": "python3"
  },
  "language_info": {
   "codemirror_mode": {
    "name": "ipython",
    "version": 3
   },
   "file_extension": ".py",
   "mimetype": "text/x-python",
   "name": "python",
   "nbconvert_exporter": "python",
   "pygments_lexer": "ipython3",
   "version": "3.7.1"
  }
 },
 "nbformat": 4,
 "nbformat_minor": 2
}
