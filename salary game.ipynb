{
 "cells": [
  {
   "cell_type": "code",
   "execution_count": 12,
   "metadata": {},
   "outputs": [
    {
     "data": {
      "image/png": "[encoded data removed]",
      "text/plain": [
       "<Figure size 432x288 with 1 Axes>"
      ]
     },
     "metadata": {
      "needs_background": "light"
     },
     "output_type": "display_data"
    }
   ],
   "source": [
    "import numpy as np\n",
    "import matplotlib.pyplot as plt\n",
    "N = 10000\n",
    "M = 50\n",
    "dM = 5\n",
    "students1 = np.full(N, M)\n",
    "students2 = np.full(N, M)\n",
    "    \n",
    "def play_a(array, dm):\n",
    "    a = np.random.randint(0, len(array))\n",
    "    b = np.random.randint(0, len(array))\n",
    "    \n",
    "    a_hand = np.random.randint(0, 3)\n",
    "    b_hand = np.random.randint(0, 3)\n",
    "    \n",
    "    if a_hand == 0 and b_hand == 2:\n",
    "        array[a] += dm\n",
    "        array[b] -= dm\n",
    "        \n",
    "    elif b_hand == 0 and a_hand == 2:\n",
    "        array[a] -= dm\n",
    "        array[b] += dm\n",
    "    \n",
    "    elif a_hand > b_hand:  \n",
    "        array[a] += dm\n",
    "        array[b] -= dm\n",
    "        \n",
    "    elif a_hand < b_hand:\n",
    "        array[a] -= dm\n",
    "        array[b] += dm\n",
    "    else :\n",
    "        pass\n",
    "    \n",
    "    return array\n",
    "\n",
    "def play_b(array, dm):\n",
    "    a = np.random.randint(0, len(array))\n",
    "    b = np.random.randint(0, len(array))\n",
    "    if array[a] <= 0 or array[b] <= 0:\n",
    "        pass\n",
    "    else :\n",
    "        a_hand = np.random.randint(0, 3)\n",
    "        b_hand = np.random.randint(0, 3)\n",
    "    \n",
    "        if a_hand == 0 and b_hand == 2:\n",
    "            array[a] += dm\n",
    "            array[b] -= dm\n",
    "        \n",
    "        elif b_hand == 0 and a_hand == 2:\n",
    "            array[a] -= dm\n",
    "            array[b] += dm\n",
    "    \n",
    "        elif a_hand > b_hand:  \n",
    "            array[a] += dm\n",
    "            array[b] -= dm\n",
    "        \n",
    "        elif a_hand < b_hand:\n",
    "            array[a] -= dm\n",
    "            array[b] += dm\n",
    "        else :\n",
    "            pass\n",
    "    \n",
    "    \n",
    "    return array\n",
    "\n",
    "for _ in range(1000000):\n",
    "    students1 = play_a(students1, dM)\n",
    "    students2 = play_b(students2, dM)\n",
    "\n",
    "plt.hist(students1, bins = 20, label = \"Liability\")\n",
    "plt.hist(students2, bins = 20, label = \"No Liability\")\n",
    "plt.legend(loc = \"best\")\n",
    "plt.show()"
   ]
  },
  {
   "cell_type": "code",
   "execution_count": null,
   "metadata": {},
   "outputs": [],
   "source": []
  }
 ],
 "metadata": {
  "kernelspec": {
   "display_name": "Python 3",
   "language": "python",
   "name": "python3"
  },
  "language_info": {
   "codemirror_mode": {
    "name": "ipython",
    "version": 3
   },
   "file_extension": ".py",
   "mimetype": "text/x-python",
   "name": "python",
   "nbconvert_exporter": "python",
   "pygments_lexer": "ipython3",
   "version": "3.7.1"
  }
 },
 "nbformat": 4,
 "nbformat_minor": 2
}
